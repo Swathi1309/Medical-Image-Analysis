{
  "nbformat": 4,
  "nbformat_minor": 0,
  "metadata": {
    "colab": {
      "name": "ED6001_Assignment_3.ipynb",
      "provenance": [],
      "collapsed_sections": []
    },
    "kernelspec": {
      "name": "python3",
      "display_name": "Python 3"
    },
    "language_info": {
      "name": "python"
    }
  },
  "cells": [
    {
      "cell_type": "markdown",
      "metadata": {
        "id": "N4YS24_9eMqG"
      },
      "source": [
        "# Image Segmentation Techniques"
      ]
    },
    {
      "cell_type": "markdown",
      "metadata": {
        "id": "xOfBqHfnfSMC"
      },
      "source": [
        "## Importing the required libraries"
      ]
    },
    {
      "cell_type": "code",
      "metadata": {
        "id": "nFRB-JXklTiW"
      },
      "source": [
        "import cv2\n",
        "\n",
        "import numpy as np\n",
        "import pandas as pd\n",
        "from math import log10, sqrt, floor, ceil\n",
        "\n",
        "from matplotlib import pyplot as plt\n",
        "from matplotlib import axes as axes\n",
        "from google.colab.patches import cv2_imshow\n",
        "\n",
        "!pip install PyMaxflow\n",
        "from maxflow.fastmin import aexpansion_grid,abswap_grid"
      ],
      "execution_count": null,
      "outputs": []
    },
    {
      "cell_type": "markdown",
      "metadata": {
        "id": "AqCgZ5psfVBp"
      },
      "source": [
        "##Thresholding functions"
      ]
    },
    {
      "cell_type": "code",
      "metadata": {
        "id": "3AtLn52Z-hWT"
      },
      "source": [
        "# Function to implement basic global thresholding\n",
        "def global_thresholding(image, t, diff_thres):\n",
        "  # Getting the histogram of the image\n",
        "  hist = [0 for _ in range(int(np.max(image))+1)]\n",
        "  for i in range(image.shape[0]):\n",
        "    for j in range(image.shape[1]):\n",
        "      intensity = floor(image[i,j])\n",
        "      hist[intensity] +=1\n",
        "  # Initializing values\n",
        "  segmented=[]\n",
        "  thresholds=[]\n",
        "  t_old = 0\n",
        "  t_new = t\n",
        "  # Finding segmented image using threshold\n",
        "  while True:\n",
        "    new_image = np.zeros(image.shape)\n",
        "    for i in range(image.shape[0]):\n",
        "      for j in range(image.shape[1]):\n",
        "        new_image[i,j] = 1 if image[i,j]>t_new else 0\n",
        "    segmented.append(new_image)\n",
        "    thresholds.append(t_new)\n",
        "    # Checking if the difference between consecutive thresholds is less that the pre-defined difference\n",
        "    if (abs(t_old-t_new)<=diff_thres):\n",
        "      break\n",
        "    # Finding new threshold\n",
        "    m1=0\n",
        "    total = 0\n",
        "    for i in range(0, t_new+1):\n",
        "      m1+=i*hist[i]\n",
        "      total+=hist[i]\n",
        "    m1/=total\n",
        "    m2=0\n",
        "    total=0\n",
        "    for i in range(t_new+1, len(hist)):\n",
        "      m2+=i*hist[i]\n",
        "      total+=hist[i]\n",
        "    m2/=total\n",
        "    t_old = t_new\n",
        "    t_new = floor((m1+m2)/2)\n",
        "\n",
        "  return segmented, thresholds, hist"
      ],
      "execution_count": 200,
      "outputs": []
    },
    {
      "cell_type": "code",
      "metadata": {
        "id": "ugLjs9hb6a6I"
      },
      "source": [
        "def otsu_thresholding(image):\n",
        "  # Getting the normalized histogram of the image\n",
        "  hist = [0 for _ in range(int(np.max(image))+1)]\n",
        "  for i in range(image.shape[0]):\n",
        "    for j in range(image.shape[1]):\n",
        "      intensity = floor(image[i,j])\n",
        "      hist[intensity] +=1\n",
        "  total = image.shape[0]*image.shape[1]\n",
        "  for i in range(len(hist)):\n",
        "    hist[i]/=total\n",
        "  # Getting the cumulative histogram of the image\n",
        "  c_hist = [0 for _ in range(int(np.max(image))+1)]\n",
        "  c_hist[0] = hist[0]\n",
        "  for i in range(1, len(hist)):\n",
        "    c_hist[i] = c_hist[i-1] + hist[i]\n",
        "  # Getting cumulative means\n",
        "  c_mean = [0 for _ in range(int(np.max(image))+1)]\n",
        "  c_mean[0] = hist[0]\n",
        "  for i in range(1, len(hist)):\n",
        "    c_mean[i] = c_mean[i-1] + (i+1)*hist[i]\n",
        "  # Global mean\n",
        "  mean_global = c_mean[-1]\n",
        "  # Computing between class variance and using that to compute threshold\n",
        "  sigma_b = [0 for _ in range(int(np.max(image))+1)]\n",
        "  for i in range(len(hist)):\n",
        "    if c_hist[i]==0 or c_hist[i]==1:\n",
        "      sigma_b[i]=0\n",
        "    else:\n",
        "      sigma_b[i] = ((mean_global*c_hist[i]-c_mean[i])**2)/(c_hist[i]*(1-c_hist[i]))\n",
        "  sigma_best = np.max(sigma_b)\n",
        "  k = 0\n",
        "  num = 0\n",
        "  for i in range(len(hist)):\n",
        "    if sigma_b[i]==sigma_best:\n",
        "      k+=i\n",
        "      num+=1\n",
        "  k = int(k/num)\n",
        "  # Finding the new segmented image\n",
        "  new_image = np.zeros(image.shape)\n",
        "  for i in range(image.shape[0]):\n",
        "    for j in range(image.shape[1]):\n",
        "      new_image[i,j] = 1 if image[i,j]>k else 0\n",
        "  # Calculating global variance and separability\n",
        "  global_var = 0\n",
        "  for i in range(len(hist)):\n",
        "    global_var+=hist[i]*(i-mean_global)**2\n",
        "  separability = sigma_b[k]/global_var\n",
        "  return new_image, k, hist, separability"
      ],
      "execution_count": 206,
      "outputs": []
    },
    {
      "cell_type": "code",
      "metadata": {
        "id": "nAfJbwhPQFL8"
      },
      "source": [
        "def multiple_otsu(image):\n",
        "  # Normalized histogram\n",
        "  hist = [0 for _ in range(int(np.max(image))+1)]\n",
        "  for i in range(image.shape[0]):\n",
        "    for j in range(image.shape[1]):\n",
        "      intensity = floor(image[i,j])\n",
        "      hist[intensity] +=1\n",
        "  total = image.shape[0]*image.shape[1]\n",
        "  for i in range(len(hist)):\n",
        "    hist[i]/=total\n",
        "  # Cumulative histogram\n",
        "  c_hist = [0 for _ in range(len(hist))]\n",
        "  c_hist[0] = hist[0]\n",
        "  for i in range(1, len(hist)):\n",
        "    c_hist[i] = c_hist[i-1] + hist[i]\n",
        "  # Cumulative means\n",
        "  c_mean = [0 for _ in range(len(hist))]\n",
        "  c_mean[0] = hist[0]\n",
        "  for i in range(1, len(hist)):\n",
        "    c_mean[i] = c_mean[i-1] + (i+1)*hist[i]\n",
        "  # Global mean\n",
        "  mean_global = c_mean[-1]\n",
        "  # Between class variance\n",
        "  sigma_b = np.zeros((len(hist), len(hist)))\n",
        "  for k1 in range(1, len(hist)-1):\n",
        "    for k2 in range(1, len(hist)-1):\n",
        "      p1 = c_hist[k1]\n",
        "      p2 = c_hist[k2] - c_hist[k1]\n",
        "      p3 = c_hist[-1] - c_hist[k2]\n",
        "      m1 = (c_mean[k1]/p1) if p1 else 0\n",
        "      m2 = (c_mean[k2]-c_mean[k1])/p2 if p2 else 0\n",
        "      m3 = (c_mean[-1]-c_mean[k2])/p3 if p3 else 0\n",
        "      sigma_b[k1,k2] = p1*((m1-mean_global)**2) + p2*((m2-mean_global)**2) + p3*((m3-mean_global)**2)\n",
        "  sigma_best = np.max(sigma_b)\n",
        "  k1 = k2 = 0\n",
        "  num = 0\n",
        "  for i in range(len(hist)):\n",
        "    for j in range(len(hist)):\n",
        "      if sigma_b[i,j]==sigma_best:\n",
        "        k1+=i\n",
        "        k2+=j\n",
        "        num+=1\n",
        "  k1/=num\n",
        "  k2/=num\n",
        "  k1 = int(k1)\n",
        "  k2 = int(k2)\n",
        "  # Global variance and separability\n",
        "  global_var = 0\n",
        "  for i in range(len(hist)):\n",
        "    global_var+=hist[i]*(i-mean_global)**2\n",
        "  sep = sigma_b[k1,k2]/global_var\n",
        "  # Segmented image\n",
        "  segmented = np.zeros(image.shape)\n",
        "  for i in range(image.shape[0]):\n",
        "    for j in range(image.shape[1]):\n",
        "      if image[i,j]>k2:\n",
        "        segmented[i,j]=len(hist)\n",
        "      elif image[i,j]>k1:\n",
        "        segmented[i,j] = len(hist)/2\n",
        "      else:\n",
        "        segmented[i,j]=0\n",
        "  # Plotting\n",
        "  fig, ax = plt.subplots(1,3, figsize=(30,5))\n",
        "  fig.tight_layout()\n",
        "  ax[0].imshow(image, cmap='gray')\n",
        "  ax[0].set_title(\"Original Image\")\n",
        "  ax[1].imshow(segmented, cmap='gray')\n",
        "  name = \"Segmented Image\\nThreshold 1 = \"+str(k1) + \"\\nThreshold 2 = \"+str(k2) +\"\\nSeparability = \"+str(sep)\n",
        "  ax[1].set_title(name)\n",
        "  ax[2].bar(range(len(hist)), hist, width=0.5)\n",
        "  ax[2].vlines(k1, 0, max(hist), 'red')\n",
        "  ax[2].vlines(k2, 0, max(hist), 'red')\n",
        "  ax[2].set_title(\"Histogram of Smoothened Image\\n(Threshold shown in Red)\")\n",
        "  plt.show(fig)"
      ],
      "execution_count": 201,
      "outputs": []
    },
    {
      "cell_type": "markdown",
      "metadata": {
        "id": "ftKM-JACfX02"
      },
      "source": [
        "## Functions to plot the segmentation steps"
      ]
    },
    {
      "cell_type": "code",
      "metadata": {
        "id": "KpmXPyibLjuD"
      },
      "source": [
        "# Function to plot the steps in a segmentation algorithm\n",
        "def plot_all_steps(image, segmented, thresholds):\n",
        "  n = len(segmented)\n",
        "  rows = ceil((n+1)/4)\n",
        "  fig, ax = plt.subplots(rows, 4, figsize=(20,rows*4));\n",
        "  if rows>1:\n",
        "    k=0\n",
        "    for i in range(rows):\n",
        "      for j in range(4):\n",
        "        if k>=n:\n",
        "          ax[i][j].set_axis_off()\n",
        "        else:\n",
        "          if i==j==0:\n",
        "            ax[i][j].imshow(original, cmap=\"gray\")\n",
        "            ax[i][j].set_title(\"Original Image\")\n",
        "          else:\n",
        "            ax[i][j].imshow(segmented[k], cmap=\"gray\");\n",
        "            name = \"Threshold = \"+ str(thresholds[k]);\n",
        "            ax[i][j].set_title(name);\n",
        "            k+=1\n",
        "  else:\n",
        "    ax[0].imshow(original, cmap=\"gray\")\n",
        "    ax[0].set_title(\"Original Image\")\n",
        "    for i in range(3):\n",
        "      if i<n:\n",
        "        ax[i+1].imshow(segmented[i], cmap=\"gray\");\n",
        "        name = \"Threshold = \"+ str(thresholds[i]);\n",
        "        ax[i+1].set_title(name);\n",
        "      else:\n",
        "        ax[i+1].set_axis_off()\n",
        "\n",
        "# Function to plot the segmented and original image for histogram based methods\n",
        "def plot_histogram(image, segmented, hist, threshold, sep=0):\n",
        "  fig, ax = plt.subplots(1,3, figsize=(30,5))\n",
        "  fig.tight_layout()\n",
        "  ax[0].imshow(image, cmap='gray')\n",
        "  ax[0].set_title(\"Smoothened Image\")\n",
        "  ax[1].imshow(segmented, cmap='gray')\n",
        "  if sep==0:\n",
        "    name = \"Segmented Image\\nThreshold = \"+str(threshold)\n",
        "  else:\n",
        "    name = \"Segmented Image\\nThreshold = \"+str(threshold) +\"\\nSeparability = \"+str(sep)\n",
        "  ax[1].set_title(name)\n",
        "  ax[2].bar(range(len(hist)), hist, width=0.5)\n",
        "  ax[2].vlines(threshold, 0, max(hist), 'red')\n",
        "  ax[2].set_title(\"Histogram of Smoothened Image\\n(Threshold shown in Red)\")\n",
        "  plt.show(fig)"
      ],
      "execution_count": 202,
      "outputs": []
    },
    {
      "cell_type": "markdown",
      "metadata": {
        "id": "AhzjeQ7UfcNU"
      },
      "source": [
        "## Functions for Graph Cut segmentation techniques"
      ]
    },
    {
      "cell_type": "code",
      "metadata": {
        "id": "Q4nurws0FftB"
      },
      "source": [
        "# Function to get the data cost\n",
        "def get_D(I, levels):\n",
        "  D = np.square( I.reshape(I.shape+(1,)) - levels.reshape((1,1,-1)) )\n",
        "  return D\n",
        "\n",
        "# Function to get the interaction cost\n",
        "def get_V(levels):\n",
        "  V = np.abs(levels.reshape((-1,1)) - levels.reshape((1,-1)))\n",
        "  return V\n",
        "\n",
        "# Function to give the complement of an image\n",
        "def complement(img):\n",
        "  new_img = np.zeros(img.shape)\n",
        "  max_val = np.max(img)\n",
        "  for i in range(img.shape[0]):\n",
        "    for j in range(img.shape[1]):\n",
        "      if img[i,j]==0:\n",
        "        new_img[i,j]=max_val\n",
        "      elif img[i,j]==max_val:\n",
        "        new_img[i,j]=0\n",
        "      else:\n",
        "        new_img[i,j] = img[i,j]\n",
        "  return new_img\n",
        "\n",
        "# Graph cut algorithms - alpha-beta swap and alpha expansion\n",
        "def graphcut(img):\n",
        "  I = img/np.max(img)\n",
        "  levels = np.array([0.25, 0.75])\n",
        "  D = get_D(I, levels)\n",
        "  V = get_V(levels)\n",
        "  ab_swap = complement (abswap_grid(D,V))\n",
        "  a_expansion = complement(aexpansion_grid(D,V))\n",
        "  # fig, ax = plt.subplots(1, 3, figsize = (30,30))\n",
        "  # ax[0].imshow(img, cmap='gray')\n",
        "  # ax[0].set_title(\"Original Image\")\n",
        "  # ax[1].imshow(ab_swap, cmap=\"gray\")\n",
        "  # ax[1].set_title(\"Segmentation Using Alpha-Beta Swap\")\n",
        "  # ax[2].imshow(a_expansion, cmap=\"gray\")\n",
        "  # ax[2].set_title(\"Segmentation Using Alpha Expansion\")\n",
        "  return ab_swap, a_expansion"
      ],
      "execution_count": 397,
      "outputs": []
    },
    {
      "cell_type": "markdown",
      "metadata": {
        "id": "qD9BAUiyftfF"
      },
      "source": [
        "## Metrics"
      ]
    },
    {
      "cell_type": "code",
      "metadata": {
        "id": "rdjU1zEaHZ82"
      },
      "source": [
        "def calculate_metrics(img, mask):\n",
        "  tp = 0\n",
        "  tn = 0\n",
        "  fp = 0\n",
        "  fn = 0\n",
        "  for i in range(img.shape[0]):\n",
        "    for j in range(img.shape[1]):\n",
        "      if img[i,j]>0 and mask[i,j]>0:\n",
        "        tp+=1\n",
        "      elif img[i,j]>0 and mask[i,j]==0:\n",
        "        fp+=1\n",
        "      elif img[i,j]==0 and mask[i,j]>0:\n",
        "        fn+=1\n",
        "      elif img[i,j]==0 and mask[i,j]==0:\n",
        "        tn+=1\n",
        "  metrics = {}\n",
        "  metrics[\"Accuracy\"] = (tp+tn)/(tp+tn+fp+fn)\n",
        "  metrics[\"Dice Coefficient\"] = (2*tp)/(2*tp+fn+fp)\n",
        "  metrics[\"Jaccard Index\"] = (tp)/(tp+fn+fp)\n",
        "  metrics[\"Sensitivity\"] = (tp)/(tp+fn)\n",
        "  metrics[\"Specificity\"] = (tn)/(tn+fp)\n",
        "  return metrics"
      ],
      "execution_count": 378,
      "outputs": []
    },
    {
      "cell_type": "markdown",
      "metadata": {
        "id": "li-N9HOlCFIf"
      },
      "source": [
        "## Final Code"
      ]
    },
    {
      "cell_type": "code",
      "metadata": {
        "id": "7odXsKlzGVMV"
      },
      "source": [
        "original = cv2.imread(\"1.bmp\",0);\n",
        "\n",
        "# Change the initializations here\n",
        "start = 125\n",
        "diff = 1\n",
        "ksize = 0\n",
        "\n",
        "if ksize==0:\n",
        "  smoothened = original\n",
        "else:\n",
        "  smoothened = cv2.blur(original, (ksize,ksize))\n",
        "segmented, thresholds, hist = global_thresholding(smoothened, start, diff);\n",
        "\n",
        "# To visualize segmentation algorithm iteration wise, uncomment the next two lines\n",
        "# print (\"Initialization = \", start, \"\\nDifference Threshold = \", diff)\n",
        "# plot_all_steps(original, segmented, thresholds);\n",
        "\n",
        "# To plot the final result of segmentation\n",
        "plot_histogram(smoothened, segmented[-1], hist, thresholds[-1]);"
      ],
      "execution_count": null,
      "outputs": []
    },
    {
      "cell_type": "code",
      "metadata": {
        "id": "R6g8BUYDD2X3"
      },
      "source": [
        "img = cv2.imread(\"1.bmp\",0)\n",
        "mask = cv2.imread(\"1_anno.bmp\", 0)\n",
        "\n",
        "otsu, _, _, _ = otsu_thresholding(img)\n",
        "ab_swap, a_expansion = graphcut(img)\n",
        "\n",
        "otsu_metrics = calculate_metrics(otsu, mask)\n",
        "ab_swap_metrics = calculate_metrics(ab_swap, mask)\n",
        "a_exp_metrics = calculate_metrics(a_expansion, mask)\n",
        "\n",
        "fig, ax = plt.subplots(2, 3, figsize = (20,10))\n",
        "ax[0][0].imshow(img, cmap=\"gray\");\n",
        "ax[0][0].set_title(\"Original Image\");\n",
        "ax[0][1].imshow(mask, cmap=\"gray\");\n",
        "ax[0][1].set_title(\"Ground Truth\");\n",
        "ax[0][2].set_axis_off();\n",
        "ax[1][0].imshow(otsu, cmap=\"gray\");\n",
        "ax[1][0].set_title(\"Image segmented using Otsu Thresholding\");\n",
        "ax[1][1].imshow(ab_swap, cmap=\"gray\");\n",
        "ax[1][1].set_title(\"Image segmented using alpha-beta swap\");\n",
        "ax[1][2].imshow(a_expansion, cmap=\"gray\");\n",
        "ax[1][2].set_title(\"Image segmented using alpha expansion\");\n",
        "\n",
        "data = [['Otsu Thresholding', otsu_metrics[\"Accuracy\"], otsu_metrics[\"Dice Coefficient\"], otsu_metrics[\"Jaccard Index\"], otsu_metrics[\"Sensitivity\"], otsu_metrics[\"Specificity\"]],['Alpha Beta Swap', ab_swap_metrics[\"Accuracy\"], ab_swap_metrics[\"Dice Coefficient\"], ab_swap_metrics[\"Jaccard Index\"], ab_swap_metrics[\"Sensitivity\"], ab_swap_metrics[\"Specificity\"]], ['Alpha Expansion', a_exp_metrics[\"Accuracy\"], a_exp_metrics[\"Dice Coefficient\"], a_exp_metrics[\"Jaccard Index\"], a_exp_metrics[\"Sensitivity\"], a_exp_metrics[\"Specificity\"]]]\n",
        "df = pd.DataFrame(data, columns = ['Method', 'Accuracy', 'Dice Coefficient', 'Jaccard Index', 'Sensitivity', 'Specificity'])\n",
        "df.head()"
      ],
      "execution_count": null,
      "outputs": []
    }
  ]
}