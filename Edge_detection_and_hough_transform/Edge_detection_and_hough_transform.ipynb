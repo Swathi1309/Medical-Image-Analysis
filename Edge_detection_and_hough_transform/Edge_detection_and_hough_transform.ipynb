{
  "nbformat": 4,
  "nbformat_minor": 0,
  "metadata": {
    "colab": {
      "name": "ED18B034_ED6001_Assignment_2.ipynb",
      "provenance": [],
      "collapsed_sections": [],
      "authorship_tag": "ABX9TyMLqnQTRbzm4z/KiWYuW4Ec",
      "include_colab_link": true
    },
    "kernelspec": {
      "name": "python3",
      "display_name": "Python 3"
    },
    "language_info": {
      "name": "python"
    }
  },
  "cells": [
    {
      "cell_type": "markdown",
      "metadata": {
        "id": "view-in-github",
        "colab_type": "text"
      },
      "source": [
        "<a href=\"https://colab.research.google.com/github/Swathi1309/Medical-Image-Analysis/blob/main/ED18B034_ED6001_Assignment_2.ipynb\" target=\"_parent\"><img src=\"https://colab.research.google.com/assets/colab-badge.svg\" alt=\"Open In Colab\"/></a>"
      ]
    },
    {
      "cell_type": "markdown",
      "metadata": {
        "id": "M-Olo2QSGtz5"
      },
      "source": [
        "## Importing libraries"
      ]
    },
    {
      "cell_type": "code",
      "metadata": {
        "id": "fjWJWqVrJa8K"
      },
      "source": [
        "import cv2\n",
        "from skimage import filters, feature\n",
        "\n",
        "import numpy as np\n",
        "from math import log10, sqrt, floor, ceil\n",
        "\n",
        "from matplotlib import pyplot as plt\n",
        "from google.colab.patches import cv2_imshow"
      ],
      "execution_count": null,
      "outputs": []
    },
    {
      "cell_type": "markdown",
      "metadata": {
        "id": "poJ-z7vyG1J9"
      },
      "source": [
        "## Supporting funtions"
      ]
    },
    {
      "cell_type": "code",
      "metadata": {
        "id": "zsj2o1hlybXl"
      },
      "source": [
        "# Function to quantify image performance by using Peak Signal to Noise Ratio\n",
        "def psnr(noisy, reconstructed):\n",
        "  mse = np.mean((noisy - reconstructed) ** 2)\n",
        "  if mse==0:\n",
        "    return 100\n",
        "  max_pixel = 255\n",
        "  psnr = 20*log10((max_pixel)/sqrt(mse))\n",
        "  return psnr"
      ],
      "execution_count": 71,
      "outputs": []
    },
    {
      "cell_type": "code",
      "metadata": {
        "id": "8UdAg1QD1wDd"
      },
      "source": [
        "# Function to denoise image using gaussian and mean filters\n",
        "def filter(image, blur_type, window_size):\n",
        "  if blur_type==\"gaussian\":\n",
        "    filtered = cv2.GaussianBlur(image, (window_size, window_size), 0)\n",
        "  elif blur_type==\"mean\":\n",
        "    filtered = cv2.blur(image, (window_size, window_size))\n",
        "  residual = image-filtered\n",
        "  performance = psnr(image, filtered)\n",
        "\n",
        "  image_name = blur_type+\"_\"+str(window_size)+\".png\"\n",
        "  residual_name = \"res\"+\"_\"+image_name\n",
        "  cv2.imwrite(image_name, filtered)\n",
        "  cv2.imwrite(residual_name, residual)\n",
        "  print (image_name, \", PSNR =\", performance)"
      ],
      "execution_count": 72,
      "outputs": []
    },
    {
      "cell_type": "code",
      "metadata": {
        "id": "dom6DP9vCBUv"
      },
      "source": [
        "# Function to obtain PDF and CDF of an image\n",
        "def histograms(image, name):\n",
        "  hist = [0 for _ in range(int(np.max(image))+1)]\n",
        "  cdf = [0 for _ in range(len(hist))]\n",
        "  cdf[0] = hist[0]\n",
        "\n",
        "  for i in range(image.shape[0]):\n",
        "    for j in range(image.shape[1]):\n",
        "      intensity = floor(image[i,j])\n",
        "      hist[intensity] +=1\n",
        "\n",
        "  for i in range(1, len(cdf)):\n",
        "    cdf[i] =cdf[i-1] +hist[i]\n",
        "\n",
        "  fig, ax = plt.subplots(1,3, figsize=(30,10))\n",
        "  ax[0].imshow(image, cmap='gray')\n",
        "  ax[1].bar(range(len(hist)), hist, width=0.5)\n",
        "  ax[1].set_title('PDF')\n",
        "  ax[2].bar(range(len(hist)), cdf, width=0.5)\n",
        "  ax[2].set_title('CDF')\n",
        "\n",
        "  plt.savefig(name)"
      ],
      "execution_count": 73,
      "outputs": []
    },
    {
      "cell_type": "markdown",
      "metadata": {
        "id": "1vWVT_UKHUaW"
      },
      "source": [
        "## Edge detectors"
      ]
    },
    {
      "cell_type": "code",
      "metadata": {
        "id": "mVc7Px1codJT"
      },
      "source": [
        "def robert_edge_detector(image, name):\n",
        "  edge_roberts = filters.roberts(eq);\n",
        "  fig, ax = plt.subplots(1,1, figsize=(20,20));\n",
        "  ax.imshow(edge_roberts, cmap='gray');\n",
        "  plt.savefig(name)"
      ],
      "execution_count": 74,
      "outputs": []
    },
    {
      "cell_type": "code",
      "metadata": {
        "id": "MEzafspypnKf"
      },
      "source": [
        "def sobel_edge_detector(image, k, name):\n",
        "  sobelx = cv2.Sobel(src=image, ddepth=cv2.CV_64F, dx=1, dy=0, ksize=k)\n",
        "  sobely = cv2.Sobel(src=image, ddepth=cv2.CV_64F, dx=0, dy=1, ksize=k)\n",
        "  sobelxy = cv2.Sobel(src=image, ddepth=cv2.CV_64F, dx=1, dy=1, ksize=k)\n",
        "  cv2.imwrite((name+\"_x.png\"), sobelx);\n",
        "  cv2.imwrite((name+\"_y.png\"), sobely);\n",
        "  cv2.imwrite((name+\"_xy.png\"), sobelxy);"
      ],
      "execution_count": 75,
      "outputs": []
    },
    {
      "cell_type": "code",
      "metadata": {
        "id": "J8Y19tSkrO7P"
      },
      "source": [
        "def canny_edge_detector(image, low, high, name):\n",
        "  canny = cv2.Canny(image, low, high)\n",
        "  name = name + \"_\" + str(low) + \"_\" + str(high) + \".png\"\n",
        "  cv2.imwrite(name, canny)"
      ],
      "execution_count": 76,
      "outputs": []
    },
    {
      "cell_type": "code",
      "metadata": {
        "id": "UzqUfs_Pr7t4"
      },
      "source": [
        "def laplacian_edge_detector(image, k, name):\n",
        "  lap=image\n",
        "  lap = cv2.Laplacian(lap, cv2.CV_16S, ksize=k)\n",
        "  lap = cv2.convertScaleAbs(lap)\n",
        "  name = name + \"_\" + str(k) + \".png\"\n",
        "  cv2.imwrite(name, lap)"
      ],
      "execution_count": 77,
      "outputs": []
    },
    {
      "cell_type": "code",
      "metadata": {
        "id": "0Zx9sQ1as3Ex"
      },
      "source": [
        "def diff_of_gaussian(image, low, high, name):\n",
        "  low_sigma = cv2.GaussianBlur(image,(low,low),0)\n",
        "  high_sigma = cv2.GaussianBlur(image,(high,high),0)\n",
        "  dog = low_sigma - high_sigma\n",
        "  name = name+\"_\"+str(low)+\"_\"+str(high)+\".png\"\n",
        "  cv2.imwrite(name, dog)"
      ],
      "execution_count": 78,
      "outputs": []
    },
    {
      "cell_type": "markdown",
      "metadata": {
        "id": "E6Yt7lN_ICAY"
      },
      "source": [
        "## Hough Transform"
      ]
    },
    {
      "cell_type": "code",
      "metadata": {
        "id": "bSF4CJvEyt4c"
      },
      "source": [
        "def hough_transform(image, m, threshold, name):\n",
        "  (M, N) = image.shape\n",
        "  center_x = M/2\n",
        "  center_y = N/2\n",
        "  a_max = M/2\n",
        "  b_max = N/2\n",
        "  accumulator = np.zeros((ceil(a_max), ceil(b_max)))\n",
        "  for x in range(M):\n",
        "    for y in range(N):\n",
        "      if image[x,y]>=200:\n",
        "        x_coord = x-center_x if center_x<=x else x-center_x\n",
        "        y_coord = y-center_y if center_y<=y else y-center_y\n",
        "        for a in range(1, ceil(a_max)):\n",
        "          for b in range(1, ceil(b_max)):\n",
        "            value = (x_coord/a)**m + (y_coord/b)**m\n",
        "            if value>=1-threshold and value<=1+threshold:\n",
        "              accumulator[a,b] +=1\n",
        "  optimal = (np.where(accumulator == np.amax(accumulator)))\n",
        "  a, b = optimal[0][0], optimal[1][0]\n",
        "\n",
        "  t = np.linspace(0, 2 * np.pi, 100)\n",
        "  y = ((np.abs(np.cos(t))) ** (2 / m)) * b * np.sign(np.cos(t))\n",
        "  x = ((np.abs(np.sin(t))) ** (2 / m)) * a * np.sign(np.sin(t))\n",
        "\n",
        "  plt.axis('equal')\n",
        "  plt.imshow(image, cmap='gray')\n",
        "  plt.plot(y+center_y, x+center_x, linewidth=2)\n",
        "  plt.savefig(name)\n",
        "  plt.close()"
      ],
      "execution_count": 122,
      "outputs": []
    },
    {
      "cell_type": "markdown",
      "metadata": {
        "id": "R4dLOFhjIEP-"
      },
      "source": [
        "## Question 1"
      ]
    },
    {
      "cell_type": "code",
      "metadata": {
        "id": "YWSN21MV4wJa"
      },
      "source": [
        "original_1 = cv2.imread('1.JPG', 0)\n",
        "\n",
        "filter(original_1, \"mean\", 3)\n",
        "filter(original_1, \"mean\", 5)\n",
        "filter(original_1, \"gaussian\", 3)\n",
        "filter(original_1, \"gaussian\", 5)"
      ],
      "execution_count": null,
      "outputs": []
    },
    {
      "cell_type": "code",
      "metadata": {
        "id": "B9A8yLA0yprb"
      },
      "source": [
        "original_2 = cv2.imread('2.JPG', 0)\n",
        "\n",
        "filter(original_2, \"mean\", 3)\n",
        "filter(original_2, \"mean\", 5)\n",
        "filter(original_2, \"gaussian\", 3)\n",
        "filter(original_2, \"gaussian\", 5)"
      ],
      "execution_count": null,
      "outputs": []
    },
    {
      "cell_type": "markdown",
      "metadata": {
        "id": "7wURyLoUIIPy"
      },
      "source": [
        "## Question 2"
      ]
    },
    {
      "cell_type": "code",
      "metadata": {
        "id": "K3cIX1vbBmji"
      },
      "source": [
        "filtered_1 = cv2.imread(\"1_gaussian_3.png\", 0)\n",
        "filtered_2 = cv2.imread(\"2_gaussian_3.png\", 0)"
      ],
      "execution_count": 86,
      "outputs": []
    },
    {
      "cell_type": "code",
      "metadata": {
        "id": "80Kk8Rm0DjC_"
      },
      "source": [
        "# Image 1\n",
        "histograms(filtered_1, \"1_filtered\")\n",
        "\n",
        "hist_eq = cv2.equalizeHist(filtered_1)\n",
        "histograms(hist_eq, \"1_hist_eq\")\n",
        "print (psnr(filtered_1, hist_eq))\n",
        "\n",
        "clahe = cv2.createCLAHE(clipLimit=4, tileGridSize=(8, 8))\n",
        "clahe_eq = clahe.apply(filtered_1)\n",
        "cv2.imwrite(\"1_eq.png\", clahe_eq);\n",
        "histograms(clahe_eq, \"1_clahe_eq\")\n",
        "print (psnr(filtered_1, clahe_eq))\n",
        "\n",
        "# Image 2\n",
        "histograms(filtered_2, \"2_filtered\")\n",
        "\n",
        "clahe_eq = clahe.apply(filtered_2)\n",
        "cv2.imwrite(\"2_eq.png\", clahe_eq);\n",
        "histograms(clahe_eq, \"2_clahe_eq\")\n",
        "print (psnr(filtered_2, clahe_eq))"
      ],
      "execution_count": null,
      "outputs": []
    },
    {
      "cell_type": "code",
      "metadata": {
        "id": "Jj0vVScmZVaA"
      },
      "source": [
        "# Image 1\n",
        "eq = cv2.imread(\"1_eq.png\", 0)\n",
        "\n",
        "robert_edge_detector(eq, \"1_robert\")\n",
        "\n",
        "sobel_edge_detector(eq, 3, \"1_sobel_3\")\n",
        "sobel_edge_detector(eq, 5, \"1_sobel_5\")\n",
        "\n",
        "canny_edge_detector(eq, 30, 100, \"1_canny\")\n",
        "canny_edge_detector(eq, 70, 200, \"1_canny\")\n",
        "canny_edge_detector(eq, 100, 200, \"1_canny\")\n",
        "\n",
        "laplacian_edge_detector(eq, 3, \"1_lap\")\n",
        "laplacian_edge_detector(eq, 5, \"1_lap\")\n",
        "\n",
        "diff_of_gaussian(eq, 3,5, \"1_dog\")\n",
        "diff_of_gaussian(eq, 3,7, \"1_dog\")\n",
        "diff_of_gaussian(eq, 5,7, \"1_dog\")\n",
        "\n",
        "# Image 2\n",
        "eq = cv2.imread(\"2_eq.png\", 0)\n",
        "\n",
        "robert_edge_detector(eq, \"2_robert\")\n",
        "\n",
        "sobel_edge_detector(eq, 3, \"2_sobel_3\")\n",
        "sobel_edge_detector(eq, 5, \"2_sobel_5\")\n",
        "\n",
        "canny_edge_detector(eq, 30, 100, \"2_canny\")\n",
        "canny_edge_detector(eq, 80, 95, \"2_canny\")\n",
        "canny_edge_detector(eq, 100, 200, \"2_canny\")\n",
        "\n",
        "laplacian_edge_detector(eq, 3, \"2_lap\")\n",
        "laplacian_edge_detector(eq, 5, \"2_lap\")\n",
        "\n",
        "diff_of_gaussian(eq, 3,5, \"2_dog\")\n",
        "diff_of_gaussian(eq, 3,7, \"2_dog\")\n",
        "diff_of_gaussian(eq, 5,7, \"2_dog\")"
      ],
      "execution_count": 96,
      "outputs": []
    },
    {
      "cell_type": "markdown",
      "metadata": {
        "id": "YFgXOWwiMsKG"
      },
      "source": [
        "## Question 3"
      ]
    },
    {
      "cell_type": "code",
      "metadata": {
        "id": "TTLK5csT3vrH"
      },
      "source": [
        "edges_1 = cv2.imread(\"1_edges.png\", 0)\n",
        "hough_transform(edges_1, 1, 0.3, \"1_hough_1\")\n",
        "hough_transform(edges_1, 2, 0.3, \"1_hough_2\")\n",
        "hough_transform(edges_1, 3, 0.3, \"1_hough_3\")\n",
        "hough_transform(edges_1, 4, 0.3, \"1_hough_4\")"
      ],
      "execution_count": 125,
      "outputs": []
    },
    {
      "cell_type": "code",
      "metadata": {
        "id": "VxEJfqM0F7JD"
      },
      "source": [
        "edges_2 = cv2.imread(\"2_edges.png\", 0)\n",
        "hough_transform(edges_2, 1, 0.3, \"2_hough_1\")\n",
        "hough_transform(edges_2, 2, 0.3, \"2_hough_2\")\n",
        "hough_transform(edges_2, 3, 0.3, \"2_hough_3\")\n",
        "hough_transform(edges_2, 4, 0.3, \"2_hough_4\")"
      ],
      "execution_count": 126,
      "outputs": []
    }
  ]
}
