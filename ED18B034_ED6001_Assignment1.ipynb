{
  "nbformat": 4,
  "nbformat_minor": 0,
  "metadata": {
    "colab": {
      "name": "ED18B034_ED6001_Assignment1.ipynb",
      "provenance": [],
      "collapsed_sections": [
        "taX5ApuisBrN",
        "puzA1GkjsFr_",
        "XExqlzI9sPue",
        "yBGrbrO6sVAL"
      ],
      "mount_file_id": "1rj6BaSgS99TtZ01kTfXqFhmEX8hXVRut",
      "authorship_tag": "ABX9TyN6hsGQktvQWt2+Evpz9Fk1",
      "include_colab_link": true
    },
    "kernelspec": {
      "name": "python3",
      "display_name": "Python 3"
    },
    "language_info": {
      "name": "python"
    }
  },
  "cells": [
    {
      "cell_type": "markdown",
      "metadata": {
        "id": "view-in-github",
        "colab_type": "text"
      },
      "source": [
        "<a href=\"https://colab.research.google.com/github/Swathi1309/Medical-Image-Analysis/blob/main/ED18B034_ED6001_Assignment1.ipynb\" target=\"_parent\"><img src=\"https://colab.research.google.com/assets/colab-badge.svg\" alt=\"Open In Colab\"/></a>"
      ]
    },
    {
      "cell_type": "markdown",
      "metadata": {
        "id": "gU4Mf5SJkMXe"
      },
      "source": [
        "# Importing Libraries"
      ]
    },
    {
      "cell_type": "code",
      "metadata": {
        "id": "IMzl9W76wUg9"
      },
      "source": [
        "import cv2\n",
        "import numpy as np\n",
        "from math import floor, ceil, log10, sqrt, radians, cos, sin\n",
        "import matplotlib.pyplot as plt\n",
        "from google.colab.patches import cv2_imshow\n",
        "from statistics import median"
      ],
      "execution_count": 24,
      "outputs": []
    },
    {
      "cell_type": "markdown",
      "metadata": {
        "id": "jekXMbtkvr03"
      },
      "source": [
        "# Supporting Functions"
      ]
    },
    {
      "cell_type": "markdown",
      "metadata": {
        "id": "taX5ApuisBrN"
      },
      "source": [
        "## Image Transformations"
      ]
    },
    {
      "cell_type": "code",
      "metadata": {
        "id": "0Jw1TVnMxFvl"
      },
      "source": [
        "# Function to translate image using bilinear interpolation\n",
        "def translate(image, x_shift, y_shift):\n",
        "  new_image = np.zeros(image.shape)\n",
        "\n",
        "  x_int = floor(x_shift)\n",
        "  x_dec = x_shift - x_int\n",
        "  x_dec = round(x_dec, 1)\n",
        "  \n",
        "  y_int = floor(y_shift)\n",
        "  y_dec = y_shift - y_int\n",
        "  y_dec = round(y_dec, 1)\n",
        "\n",
        "  a_weight = x_dec*y_dec\n",
        "  b_weight = (1-x_dec)*y_dec\n",
        "  c_weight = (x_dec)*(1-y_dec)\n",
        "  d_weight = (1-x_dec)*(1-y_dec)\n",
        "\n",
        "  for i in range(image.shape[0]):\n",
        "    for j in range(image.shape[1]):\n",
        "      if i>=y_int and j>=x_int:\n",
        "        a = image[i-1-y_int, j-1-x_int] if (i-1>=y_int and j-1>=x_int) else 0\n",
        "        b = image[i-y_int, j-1-x_int] if (j-1>=x_int) else 0\n",
        "        c = image[i-1-y_int, j-x_int] if (i-1>=y_int) else 0\n",
        "        d = image[i-y_int, j-x_int]\n",
        "        new_image[i,j] = a*a_weight + b*b_weight + c*c_weight + d*d_weight\n",
        "  return new_image\n",
        "\n",
        "\n",
        "# Function to rotate image using bilinear interpolation\n",
        "def rotate(image, angle):\n",
        "  new_image = np.zeros(image.shape)\n",
        "  angle = radians(angle)\n",
        "  inv_transformation = np.linalg.inv(np.array([[cos(angle), sin(angle)],[-1*sin(angle), cos(angle)]]))\n",
        "  for i in range (image.shape[0]):\n",
        "    for j in range (image.shape[1]):\n",
        "      x_inv = i - 512.5\n",
        "      y_inv = j - 512.5\n",
        "      [[x], [y]] = np.matmul(inv_transformation, np.array([[x_inv],[y_inv]]))\n",
        "      x+=512.5\n",
        "      y+=512.5\n",
        "      if x<0 or x>=1024 or y<0 or y>=1024:\n",
        "        new_image[i, j] = 0\n",
        "      else:\n",
        "        a = image[floor(x), floor(y)]\n",
        "        b = image[floor(x)+1, floor(y)] if floor(x)+1<1024 else 0\n",
        "        c = image[floor(x), floor(y)+1] if floor(y)+1<1024 else 0\n",
        "        d = image[floor(x)+1, floor(y)+1] if (floor(x)+1<1024 and floor(y)+1<1024) else 0\n",
        "        x_dec = round(x - floor(x), 1)\n",
        "        y_dec = round(y - floor(y), 1)\n",
        "        a_weight = (1-x_dec)*(1-y_dec)\n",
        "        b_weight = (1-x_dec)*y_dec\n",
        "        c_weight = (x_dec)*(1-y_dec)\n",
        "        d_weight = x_dec*y_dec\n",
        "        new_image[i, j] = a_weight*a + b_weight*b + c_weight*c + d_weight*d\n",
        "\n",
        "  return new_image\n",
        "\n",
        "# Function to scale image using bilinear interpolation\n",
        "def scale(image, factor):\n",
        "  x_dim = floor(image.shape[0]*factor)\n",
        "  y_dim = floor(image.shape[1]*factor)\n",
        "  new_image = np.zeros((x_dim, y_dim))\n",
        "  for i in range(x_dim):\n",
        "    for j in range(y_dim):\n",
        "      x = i/factor\n",
        "      y = j/factor\n",
        "      if x<0 or x>=1024 or y<0 or y>=1024:\n",
        "        new_image[i, j] = 0\n",
        "      else:\n",
        "        a = image[floor(x), floor(y)]\n",
        "        b = image[floor(x)+1, floor(y)] if floor(x)+1<1024 else 0\n",
        "        c = image[floor(x), floor(y)+1] if floor(y)+1<1024 else 0\n",
        "        d = image[floor(x)+1, floor(y)+1] if (floor(x)+1<1024 and floor(y)+1<1024) else 0\n",
        "        x_dec = round(x - floor(x), 1)\n",
        "        y_dec = round(y - floor(y), 1)\n",
        "        a_weight = (1-x_dec)*(1-y_dec)\n",
        "        b_weight = (1-x_dec)*y_dec\n",
        "        c_weight = (x_dec)*(1-y_dec)\n",
        "        d_weight = x_dec*y_dec\n",
        "        new_image[i, j] = a_weight*a + b_weight*b + c_weight*c + d_weight*d\n",
        "  return new_image"
      ],
      "execution_count": 25,
      "outputs": []
    },
    {
      "cell_type": "markdown",
      "metadata": {
        "id": "puzA1GkjsFr_"
      },
      "source": [
        "## Histogram Equalization"
      ]
    },
    {
      "cell_type": "code",
      "metadata": {
        "id": "GV2KkwyJUuX9"
      },
      "source": [
        "# Function to get the PDF of the given image\n",
        "def histogram(image):\n",
        "  intensity_arr = [0 for _ in range(int(np.max(image))+1)]\n",
        "  for i in range(image.shape[0]):\n",
        "    for j in range(image.shape[1]):\n",
        "      intensity = floor(image[i,j])\n",
        "      intensity_arr[intensity] +=1\n",
        "  return intensity_arr\n",
        "\n",
        "# Function to get the clipped PDF of the given image\n",
        "def clipped_histogram(image, limit):\n",
        "  intensity_arr = histogram(image)\n",
        "  lt = floor(limit*max(intensity_arr))\n",
        "  sum = 0\n",
        "  for i in range(len(intensity_arr)):\n",
        "    if intensity_arr[i]>lt:\n",
        "      sum += (intensity_arr[i]-lt)\n",
        "      intensity_arr[i] = lt\n",
        "  extra = floor(sum/len(intensity_arr))\n",
        "  for i in range(len(intensity_arr)):\n",
        "    intensity_arr[i]+=extra\n",
        "  return intensity_arr\n",
        "\n",
        "# Function to convert the PDF into a Cumulative Density Function\n",
        "def get_cdf(arr):\n",
        "  arr_new = [0 for _ in range(len(arr))]\n",
        "  arr_new[0] = arr[0]\n",
        "  for i in range(1, len(arr_new)):\n",
        "    arr_new[i] =arr_new[i-1] +arr[i]\n",
        "  return arr_new"
      ],
      "execution_count": 26,
      "outputs": []
    },
    {
      "cell_type": "code",
      "metadata": {
        "id": "u0nP3VRxviYT"
      },
      "source": [
        "# Function for improving contrast of an image, given the CDF\n",
        "def hist_equalization(image, cdf_intensities):\n",
        "  cdf_min = min(cdf_intensities)\n",
        "  if cdf_min == image.shape[0]**2:\n",
        "    den = 1\n",
        "  else:\n",
        "    den = (image.shape[0]**2 - cdf_min)\n",
        "  new_image = np.zeros(image.shape)\n",
        "  for i in range(image.shape[0]):\n",
        "    for j in range(image.shape[1]):\n",
        "      intensity = floor(image[i,j])\n",
        "      new_intensity = (cdf_intensities[intensity]-cdf_min)*(len(cdf_intensities)-1)/den\n",
        "      new_image[i,j] = int(floor(new_intensity))\n",
        "  return new_image\n",
        "\n",
        "# Function to enhance contrast of an image by Contrast Limited Adaptive Histogram Equalization\n",
        "def clahe(image, filter_size, limit):\n",
        "  new_image = np.zeros(image.shape)\n",
        "  center = int((filter_size-1)/2)\n",
        "  for i in range(image.shape[0]):\n",
        "    for j in range(image.shape[1]):\n",
        "      neig = get_neighbourhood(original_image, i, j, filter_size)\n",
        "      intensities = clipped_histogram(neig, limit)\n",
        "      cdf = get_cdf(intensities)\n",
        "      hist_eq = hist_equalization(neig, cdf)\n",
        "      intensity = hist_eq[center,center]\n",
        "      new_image[i,j] = intensity\n",
        "  return new_image"
      ],
      "execution_count": 27,
      "outputs": []
    },
    {
      "cell_type": "markdown",
      "metadata": {
        "id": "N8MBbPTZSAn5"
      },
      "source": [
        "## Noise and Filters"
      ]
    },
    {
      "cell_type": "code",
      "metadata": {
        "id": "WzcgUFeJ5vAr"
      },
      "source": [
        "# Function to add noise to image\n",
        "def add_noise(image, noise_type, variance):\n",
        "\n",
        "  if noise_type==\"salt_and_pepper\":\n",
        "    row, col = image.shape\n",
        "    noisy = np.copy(image)\n",
        "    s_vs_p = 0.5\n",
        "    amount = variance / (2 * 255 * 255 / 4)\n",
        "    # White spots\n",
        "    num_salt = np.ceil(amount * image.size * s_vs_p)\n",
        "    coords = [np.random.randint(0, i - 1, int(num_salt)) for i in image.shape]\n",
        "    for i in range(len(coords[0])):\n",
        "      x, y = coords[0][i], coords[1][i]\n",
        "      noisy[x,y] = 255\n",
        "    # Black spots\n",
        "    num_pepper = np.ceil(amount* image.size * (1 - s_vs_p))\n",
        "    coords = [np.random.randint(0, i - 1, int(num_pepper))for i in image.shape]\n",
        "    for i in range(len(coords[0])):\n",
        "      x, y = coords[0][i], coords[1][i]\n",
        "      noisy[x,y] = 0\n",
        "    return noisy\n",
        "\n",
        "  elif noise_type == \"gaussian\":\n",
        "    row,col = image.shape\n",
        "    mean = 0\n",
        "    sigma = variance**0.5\n",
        "    gauss = np.random.normal(mean,sigma,(row,col))\n",
        "    gauss = gauss.reshape(row,col)\n",
        "    noisy = image + gauss\n",
        "    return noisy"
      ],
      "execution_count": 28,
      "outputs": []
    },
    {
      "cell_type": "code",
      "metadata": {
        "id": "9sSADl0X-JxN"
      },
      "source": [
        "# Function to get the neighbourhood of a given pixel in the image\n",
        "def get_neighbourhood(image, i, j, n):\n",
        "  neighbourhood = np.array([[0 for _ in range(n)] for _ in range(n)])\n",
        "  center = (n-1)/2\n",
        "  for a in range(n):\n",
        "    for b in range(n):\n",
        "      x = b-center\n",
        "      y = a-center\n",
        "      # x_ and y_ are the pixels of the actual image\n",
        "      x_ = i + x\n",
        "      y_ = j + y\n",
        "      if x_<0:\n",
        "        x_ = (-1*x_) -1\n",
        "      if y_<0:\n",
        "        y_ = (-1*y_) -1\n",
        "      if x_>=image.shape[0]:\n",
        "        x_ = image.shape[0] - (x_ - (image.shape[0]-1))\n",
        "      if y_>=image.shape[1]:\n",
        "        y_ = image.shape[1] - (y_ - (image.shape[1]-1))\n",
        "      neighbourhood[a,b] = image[int(x_), int(y_)]\n",
        "  return neighbourhood\n",
        "\n",
        "# Function to get the 4-n or 8-n mean of an given pixel in the image\n",
        "def get_mean(i, j, image, n):\n",
        "  total = 0\n",
        "  if i-1>=0:\n",
        "    total+=image[i-1, j]\n",
        "  if j-1>=0:\n",
        "    total+=image[i, j-1]\n",
        "  if i+1<image.shape[0]:\n",
        "    total+=image[i+1, j]\n",
        "  if j+1<image.shape[1]:\n",
        "    total+=image[i, j+1]\n",
        "  if i-1>=0 and j-1>=0 and n==8:\n",
        "    total+=image[i-1, j-1]\n",
        "  if i+1<image.shape[0] and j-1>=0 and n==8:\n",
        "    total+=image[i+1, j-1]\n",
        "  if i+1<image.shape[0] and j+1<image.shape[1] and n==8:\n",
        "    total+=image[i+1, j+1]\n",
        "  if i-1>=0 and j+1<image.shape[1] and n==8:\n",
        "    total+=image[i-1, j+1]\n",
        "  mean = floor(total/n)\n",
        "  return mean\n",
        "\n",
        "# Function to get the 4-n or 8-n median of an given pixel in the image\n",
        "def get_median(i, j, image, n):\n",
        "  arr = []\n",
        "  if i-1>=0:\n",
        "    arr.append(image[i-1, j])\n",
        "  if j-1>=0:\n",
        "    arr.append(image[i, j-1])\n",
        "  if i+1<image.shape[0]:\n",
        "    arr.append(image[i+1, j])\n",
        "  if j+1<image.shape[1]:\n",
        "    arr.append(image[i, j+1])\n",
        "  if i-1>=0 and j-1>=0 and n==8:\n",
        "    arr.append(image[i-1, j-1])\n",
        "  if i+1<image.shape[0] and j-1>=0 and n==8:\n",
        "    arr.append(image[i+1, j-1])\n",
        "  if i+1<image.shape[0] and j+1<image.shape[1] and n==8:\n",
        "    arr.append(image[i+1, j+1])\n",
        "  if i-1>=0 and j+1<image.shape[1] and n==8:\n",
        "    arr.append(image[i-1, j+1])\n",
        "  return floor(median(arr))"
      ],
      "execution_count": 29,
      "outputs": []
    },
    {
      "cell_type": "code",
      "metadata": {
        "id": "qANkrfWR9yIE"
      },
      "source": [
        "# Function to apply mean filter on an image\n",
        "def mean_filter(image, n):\n",
        "  filtered = np.zeros(image.shape)\n",
        "  for i in range(image.shape[0]):\n",
        "    for j in range(image.shape[1]):\n",
        "      mean = get_mean(i, j, image, n)\n",
        "      filtered[i,j] = mean\n",
        "  return filtered\n",
        "\n",
        "# Function to apply median filter on an image\n",
        "def median_filter(image, n):\n",
        "  filtered = np.zeros(image.shape)\n",
        "  for i in range(image.shape[0]):\n",
        "    for j in range(image.shape[1]):\n",
        "      median = get_median(i, j, image, n)\n",
        "      filtered[i,j] = median\n",
        "  return filtered\n",
        "\n",
        "# Function to apply gaussian filter on an image\n",
        "def gaussian_filter(image):\n",
        "  filtered = np.zeros(image.shape)\n",
        "  filter = np.array([[1,2,1],[2,4,2],[1,2,1]])/16\n",
        "  for i in range(image.shape[0]):\n",
        "    for j in range(image.shape[1]):\n",
        "      image_pixels = np.zeros((3,3))\n",
        "      image_pixels[0,0] = image[i-1, j-1] if (i-1>=0 and j-1>=0) else 0\n",
        "      image_pixels[0,1] = image[i-1, j] if (i-1>=0) else 0\n",
        "      image_pixels[0,2] = image[i-1, j+1] if (i-1>=0 and j+1<image.shape[1]) else 0\n",
        "      image_pixels[1,0] = image[i, j-1] if (j-1>=0) else 0\n",
        "      image_pixels[1,1] = image[i,j]\n",
        "      image_pixels[1,2] = image[i, j+1] if (j+1<image.shape[1]) else 0\n",
        "      image_pixels[2,0] = image[i+1, j-1] if (i+1<image.shape[0] and j-1>=0) else 0\n",
        "      image_pixels[2,1] = image[i+1, j] if (i+1<image.shape[0]) else 0\n",
        "      image_pixels[2,2] = image[i+1, j+1] if (i+1<image.shape[0] and j+1<image.shape[1]) else 0\n",
        "      filtered[i,j] = np.sum(np.multiply(filter, image_pixels))\n",
        "  return filtered"
      ],
      "execution_count": 30,
      "outputs": []
    },
    {
      "cell_type": "code",
      "metadata": {
        "id": "5uCpx4qJfk7J"
      },
      "source": [
        "# Function to quantify image performance by using Peak Signal to Noise Ratio\n",
        "def psnr(noisy, reconstructed):\n",
        "  mse = np.mean((noisy - reconstructed) ** 2)\n",
        "  if mse==0:\n",
        "    return 100\n",
        "  max_pixel = 255\n",
        "  psnr = 20*log10((max_pixel)/sqrt(mse))\n",
        "  return psnr"
      ],
      "execution_count": 31,
      "outputs": []
    },
    {
      "cell_type": "markdown",
      "metadata": {
        "id": "eqGx29sesLJ1"
      },
      "source": [
        "# CODE"
      ]
    },
    {
      "cell_type": "markdown",
      "metadata": {
        "id": "k517XEi1vpbS"
      },
      "source": [
        "## Reading and viewing the original image"
      ]
    },
    {
      "cell_type": "code",
      "metadata": {
        "id": "9HEwOod4wrMe"
      },
      "source": [
        "original_image = cv2.imread(\"1_Original.png\",0)\n",
        "cv2_imshow(original_image)"
      ],
      "execution_count": null,
      "outputs": []
    },
    {
      "cell_type": "markdown",
      "metadata": {
        "id": "c3xLNe2lwFrj"
      },
      "source": [
        "## Question 1: Geometric transformations on the original image"
      ]
    },
    {
      "cell_type": "code",
      "metadata": {
        "id": "yBHGxln5wDZt"
      },
      "source": [
        "# Translate the image by 5.5 pixels and 4.4 pixels in x and y directions respectively\n",
        "translated = translate(original_image, 5.5, 4.4)\n",
        "cv2.imwrite(\"2_Translated.png\", translated);\n",
        "\n",
        "# Rotate the image by 35 degrees (CW)\n",
        "rotated_35 = rotate(original_image, 35)\n",
        "cv2.imwrite(\"2_Rotated_35.png\", rotated_35);\n",
        "\n",
        "# Rotate the image by 125 degrees (CC5)\n",
        "rotated_125_ = rotate(original_image, -125)\n",
        "cv2.imwrite(\"2_Rotated_-125.png\", rotated_125_);\n",
        "\n",
        "# Scale the image by a factor of 0.4\n",
        "scaled_0_4 = scale(original_image, 0.4)\n",
        "cv2.imwrite(\"2_Scaled_0_4.png\", scaled_0_4);\n",
        "\n",
        "# Scale the image by a factor of 1.4\n",
        "scaled_1_4 = scale(original_image, 1.4)\n",
        "cv2.imwrite(\"2_Scaled_1_4.png\", scaled_1_4);"
      ],
      "execution_count": 35,
      "outputs": []
    },
    {
      "cell_type": "markdown",
      "metadata": {
        "id": "seDdHdZ1y6IG"
      },
      "source": [
        "## Question 2: Contrast Enhancement using Histogram Equalization"
      ]
    },
    {
      "cell_type": "code",
      "metadata": {
        "id": "wJqyX1BQzv0Y"
      },
      "source": [
        "# Plotting the histogram of the original image\n",
        "original_pdf = histogram(original_image)\n",
        "fig = plt.figure(figsize = (30, 10))\n",
        "plt.bar(range(len(original_pdf)), original_pdf, width=0.5)\n",
        "plt.savefig(\"2_Original_pdf\")\n",
        "plt.close()\n",
        "\n",
        "# Plotting the CDF of the original image\n",
        "original_cdf = get_cdf(original_pdf)\n",
        "fig = plt.figure(figsize = (30, 10))\n",
        "plt.bar(range(len(original_pdf)), original_cdf, width=0.5)\n",
        "plt.savefig(\"2_Original_cdf\")\n",
        "plt.close()\n",
        "\n",
        "# Obtaining the contrast enhanced image\n",
        "hist_eq = hist_equalization(original_image, original_cdf)\n",
        "cv2.imwrite(\"2_Hist_eq.png\", hist_eq);\n",
        "\n",
        "# Plotting the PDF of the contrast enhanced image\n",
        "contrast_pdf = histogram(hist_eq)\n",
        "fig = plt.figure(figsize = (30, 10))\n",
        "plt.bar(range(len(original_pdf)), contrast_pdf, width=0.5)\n",
        "plt.savefig(\"2_Contrast_pdf\")\n",
        "plt.close()\n",
        "\n",
        "# Plotting the CDF of the contrast enhanced image\n",
        "contrast_cdf = get_cdf(contrast_pdf)\n",
        "fig = plt.figure(figsize = (30, 10))\n",
        "plt.bar(range(len(original_pdf)), contrast_cdf, width=0.5)\n",
        "plt.savefig(\"2_Contrast_cdf\")\n",
        "plt.close()"
      ],
      "execution_count": 38,
      "outputs": []
    },
    {
      "cell_type": "markdown",
      "metadata": {
        "id": "XV88rQTJ4J9q"
      },
      "source": [
        "## Question 3: Types of Filters and Noises"
      ]
    },
    {
      "cell_type": "code",
      "metadata": {
        "id": "7tbOwtWvO2xH"
      },
      "source": [
        "# To test a single example of CLAHE\n",
        "# Image and filter names can be changed \n",
        "original_image = cv2.imread(\"Original_2.png\", 0)\n",
        "noisy = add_noise(original_image, \"salt_and_pepper\", 100)\n",
        "cv2.imwrite(\"noisy.png\", noisy)\n",
        "filtered = gaussian_filter(noisy)\n",
        "cv2.imwrite(\"filtered.png\", filtered)\n",
        "f = clahe(filtered, 9, 0.75)\n",
        "cv2.imwrite(\"clahe_filtered.png\", f)\n",
        "print (psnr(noisy, f))"
      ],
      "execution_count": null,
      "outputs": []
    },
    {
      "cell_type": "code",
      "metadata": {
        "id": "8H0xEpfe-M_i"
      },
      "source": [
        "# To test all possible combinations\n",
        "Noises = [\"salt_and_pepper\", \"gaussian\"]\n",
        "Variances = [25, 100]\n",
        "Filters = [\"Mean\", \"Median\", \"Gaussian\"]\n",
        "Neighbourhood = [4, 8]\n",
        "clahe_filter_size = [3, 7, 9]\n",
        "clip_limit = [0.75, 0.6]\n",
        "\n",
        "for noise in Noises:\n",
        "  for var in Variances:\n",
        "    for filter in Filters:\n",
        "      noisy = add_noise(original_image, noise, var)\n",
        "      name = noise + \"_\" + str(var) + \".png\"\n",
        "      cv2.imwrite(name, noisy)\n",
        "      if filter == \"Mean\":\n",
        "        for n in Neighbourhood:\n",
        "          filtered = mean_filter(noisy, n)\n",
        "          name = noise+\"_\" + str(var)+\"_\" + \"mean\"+\"_\" + str(n)+\".png\"\n",
        "          cv2.imwrite(name, filtered)\n",
        "          for clahe_filter in clahe_filter_size:\n",
        "            for limit in clip_limit:\n",
        "              filtered_clahe = clahe(filtered, clahe_filter, limit)\n",
        "              name = noise+\"_\" + str(var)+\"_\" + \"mean\"+\"_\" + str(n)+ \"_\" + str(clahe_filter) + \"_\" + str(limit) + \".png\"\n",
        "              cv2.imwrite(name, filtered_clahe)\n",
        "              print (name, psnr(filtered_clahe, noisy))\n",
        "      elif filter==\"Median\":\n",
        "        for n in Neighbourhood:\n",
        "          filtered = median_filter(noisy, n)\n",
        "          name = noise+\"_\" + str(var)+\"_\" + \"median\"+\"_\" + str(n)+\".png\"\n",
        "          cv2.imwrite(name, filtered)\n",
        "          for clahe_filter in clahe_filter_size:\n",
        "            for limit in clip_limit:\n",
        "              filtered_clahe = clahe(filtered, clahe_filter, limit)\n",
        "              name = noise+\"_\" + str(var)+\"_\" + \"median\"+\"_\" + str(n)+ \"_\" + str(clahe_filter) + \"_\" + str(limit) + \".png\"\n",
        "              cv2.imwrite(name, filtered_clahe)\n",
        "              print (name, psnr(filtered_clahe, noisy))\n",
        "      elif filter==\"Gaussian\":\n",
        "        filtered = gaussian_filter(noisy)\n",
        "        name = noise + \"_\" + str(var) + \"_\" + gaussian + \".png\"\n",
        "        cv2.imwrite(name, filtered)\n",
        "        for clahe_filter in clahe_filter_size:\n",
        "          for limit in clip_limit:\n",
        "            filtered_clahe = clahe(filtered, clahe_filter, limit)\n",
        "            name = noise+\"_\" + str(var)+\"_\" + \"gaussian\"+\"_\" + str(clahe_filter) + \"_\" + str(limit) + \".png\"\n",
        "            cv2.imwrite(name, filtered_clahe)\n",
        "            print (name, psnr(filtered_clahe, noisy))"
      ],
      "execution_count": null,
      "outputs": []
    }
  ]
}